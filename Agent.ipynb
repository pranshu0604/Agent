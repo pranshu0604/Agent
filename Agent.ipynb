{
  "nbformat": 4,
  "nbformat_minor": 0,
  "metadata": {
    "colab": {
      "provenance": [],
      "toc_visible": true
    },
    "kernelspec": {
      "name": "python3",
      "display_name": "Python 3"
    },
    "language_info": {
      "name": "python"
    }
  },
  "cells": [
    {
      "cell_type": "code",
      "source": [
        "!pip install -qU langchain-community langgraph langchain-anthropic tavily-python langgraph-checkpoint-sqlite\n",
        "!pip install -qU \"langchain[openai]\""
      ],
      "metadata": {
        "colab": {
          "base_uri": "https://localhost:8080/"
        },
        "id": "yIJbaWc4h4LM",
        "outputId": "62347d6f-bec9-4d19-8c33-7b191cd7c16d"
      },
      "execution_count": 2,
      "outputs": [
        {
          "output_type": "stream",
          "name": "stdout",
          "text": [
            "\u001b[2K     \u001b[90m━━━━━━━━━━━━━━━━━━━━━━━━━━━━━━━━━━━━━━━━\u001b[0m \u001b[32m43.7/43.7 kB\u001b[0m \u001b[31m2.6 MB/s\u001b[0m eta \u001b[36m0:00:00\u001b[0m\n",
            "\u001b[2K   \u001b[90m━━━━━━━━━━━━━━━━━━━━━━━━━━━━━━━━━━━━━━━━\u001b[0m \u001b[32m2.5/2.5 MB\u001b[0m \u001b[31m69.4 MB/s\u001b[0m eta \u001b[36m0:00:00\u001b[0m\n",
            "\u001b[2K   \u001b[90m━━━━━━━━━━━━━━━━━━━━━━━━━━━━━━━━━━━━━━━━\u001b[0m \u001b[32m154.9/154.9 kB\u001b[0m \u001b[31m12.3 MB/s\u001b[0m eta \u001b[36m0:00:00\u001b[0m\n",
            "\u001b[2K   \u001b[90m━━━━━━━━━━━━━━━━━━━━━━━━━━━━━━━━━━━━━━━━\u001b[0m \u001b[32m286.1/286.1 kB\u001b[0m \u001b[31m21.4 MB/s\u001b[0m eta \u001b[36m0:00:00\u001b[0m\n",
            "\u001b[2K   \u001b[90m━━━━━━━━━━━━━━━━━━━━━━━━━━━━━━━━━━━━━━━━\u001b[0m \u001b[32m438.5/438.5 kB\u001b[0m \u001b[31m31.9 MB/s\u001b[0m eta \u001b[36m0:00:00\u001b[0m\n",
            "\u001b[2K   \u001b[90m━━━━━━━━━━━━━━━━━━━━━━━━━━━━━━━━━━━━━━━━\u001b[0m \u001b[32m44.2/44.2 kB\u001b[0m \u001b[31m3.0 MB/s\u001b[0m eta \u001b[36m0:00:00\u001b[0m\n",
            "\u001b[2K   \u001b[90m━━━━━━━━━━━━━━━━━━━━━━━━━━━━━━━━━━━━━━━━\u001b[0m \u001b[32m50.0/50.0 kB\u001b[0m \u001b[31m3.5 MB/s\u001b[0m eta \u001b[36m0:00:00\u001b[0m\n",
            "\u001b[2K   \u001b[90m━━━━━━━━━━━━━━━━━━━━━━━━━━━━━━━━━━━━━━━━\u001b[0m \u001b[32m44.4/44.4 kB\u001b[0m \u001b[31m2.8 MB/s\u001b[0m eta \u001b[36m0:00:00\u001b[0m\n",
            "\u001b[2K   \u001b[90m━━━━━━━━━━━━━━━━━━━━━━━━━━━━━━━━━━━━━━━━\u001b[0m \u001b[32m151.6/151.6 kB\u001b[0m \u001b[31m11.2 MB/s\u001b[0m eta \u001b[36m0:00:00\u001b[0m\n",
            "\u001b[2K   \u001b[90m━━━━━━━━━━━━━━━━━━━━━━━━━━━━━━━━━━━━━━━━\u001b[0m \u001b[32m50.9/50.9 kB\u001b[0m \u001b[31m3.7 MB/s\u001b[0m eta \u001b[36m0:00:00\u001b[0m\n",
            "\u001b[2K   \u001b[90m━━━━━━━━━━━━━━━━━━━━━━━━━━━━━━━━━━━━━━━━\u001b[0m \u001b[32m216.5/216.5 kB\u001b[0m \u001b[31m15.2 MB/s\u001b[0m eta \u001b[36m0:00:00\u001b[0m\n",
            "\u001b[2K   \u001b[90m━━━━━━━━━━━━━━━━━━━━━━━━━━━━━━━━━━━━━━━━\u001b[0m \u001b[32m63.4/63.4 kB\u001b[0m \u001b[31m4.8 MB/s\u001b[0m eta \u001b[36m0:00:00\u001b[0m\n",
            "\u001b[?25h"
          ]
        }
      ]
    },
    {
      "cell_type": "code",
      "source": [
        "from google.colab import userdata\n",
        "import os\n",
        "\n",
        "os.environ[\"OPENAI_API_KEY\"] = userdata.get(\"OPENAI_API_KEY\")\n",
        "os.environ[\"LANGSMITH_API_KEY\"] = userdata.get(\"LANGSMITH_API_KEY\")\n",
        "os.environ[\"LANGSMITH_TRACING\"] = userdata.get(\"LANGSMITH_TRACING\")\n",
        "os.environ[\"LANGSMITH_PROJECT\"] = userdata.get(\"LANGSMITH_PROJECT\")\n",
        "os.environ[\"TAVILY_API_KEY\"] = userdata.get(\"TAVILY_API_KEY\")"
      ],
      "metadata": {
        "id": "_kwkhk3aiVgj"
      },
      "execution_count": 3,
      "outputs": []
    },
    {
      "cell_type": "code",
      "source": [
        "from langchain_openai import ChatOpenAI\n",
        "import os\n",
        "\n",
        "model = ChatOpenAI(\n",
        "    model=\"mistralai/mistral-small-3.1-24b-instruct:free\",\n",
        "    base_url=\"https://openrouter.ai/api/v1\",\n",
        "    api_key=os.getenv(\"OPENAI_API_KEY\"),\n",
        "    temperature=0.3\n",
        ")"
      ],
      "metadata": {
        "id": "XtZP72SKkJ7o"
      },
      "execution_count": 22,
      "outputs": []
    },
    {
      "cell_type": "code",
      "source": [
        "from langchain_community.tools.tavily_search import TavilySearchResults\n",
        "\n",
        "search = TavilySearchResults(max_results=2)\n",
        "search_results = search.invoke(\"what is the weather in Indore\")\n",
        "print(search_results)\n",
        "tools = [search]"
      ],
      "metadata": {
        "colab": {
          "base_uri": "https://localhost:8080/"
        },
        "id": "YCR4u7aGkhZc",
        "outputId": "d285c998-0555-43b0-f82c-ed7a54cd093b"
      },
      "execution_count": 9,
      "outputs": [
        {
          "output_type": "stream",
          "name": "stdout",
          "text": [
            "[{'title': 'Indore Weather Forecast 31 May 2025 - Times of India', 'url': 'https://timesofindia.indiatimes.com/weather/indore-weather-forecast-today/452007', 'content': \"Today's Weather in Indore: In Indore today, the weather is expected to be Haze with a maximum temperature of 34°C and a minimum of 24°C. Sunrise in Indore\", 'score': 0.9477354}, {'title': 'Weather for Indore, Madhya Pradesh, India - Time and Date', 'url': 'https://www.timeanddate.com/weather/india/indore', 'content': 'Latest Report: May 31, 2025 at 5:30 am. Visibility: 2 mi. Pressure: 29.58 \"Hg (27.77 \"Hg at 554m altitude). Humidity: 83%. Dew Point: 73 °F. Location of Indore', 'score': 0.93206495}]\n"
          ]
        }
      ]
    },
    {
      "cell_type": "code",
      "source": [
        "from langchain_core.messages import HumanMessage\n",
        "\n",
        "response = model.invoke([HumanMessage(content=\"hi!\")])\n",
        "response.content"
      ],
      "metadata": {
        "colab": {
          "base_uri": "https://localhost:8080/",
          "height": 35
        },
        "id": "VyLPHTgcBAMp",
        "outputId": "8aa9ded4-e2c3-49b4-bf36-81f98c08931a"
      },
      "execution_count": 7,
      "outputs": [
        {
          "output_type": "execute_result",
          "data": {
            "text/plain": [
              "'Hello! How are you today? Is there something I can help you with or would you like to chat?'"
            ],
            "application/vnd.google.colaboratory.intrinsic+json": {
              "type": "string"
            }
          },
          "metadata": {},
          "execution_count": 7
        }
      ]
    },
    {
      "cell_type": "code",
      "source": [
        "model_with_tools = model.bind_tools(tools)"
      ],
      "metadata": {
        "id": "62bQS3sVDBfT"
      },
      "execution_count": 24,
      "outputs": []
    },
    {
      "cell_type": "code",
      "source": [
        "response = model_with_tools.invoke([HumanMessage(content=\"Hi!\")])\n",
        "\n",
        "print(f\"ContentString: {response.content}\")\n",
        "print(f\"ToolCalls: {response.tool_calls}\")"
      ],
      "metadata": {
        "colab": {
          "base_uri": "https://localhost:8080/"
        },
        "id": "bfi8MNrrDLCW",
        "outputId": "a867ccee-9bbb-49ea-b89b-dd917346c0e2"
      },
      "execution_count": 11,
      "outputs": [
        {
          "output_type": "stream",
          "name": "stdout",
          "text": [
            "ContentString: Hi! How can I help you today?\n",
            "ToolCalls: []\n"
          ]
        }
      ]
    },
    {
      "cell_type": "code",
      "source": [
        "response = model_with_tools.invoke([HumanMessage(content=\"What's the weather in Jabalpur, Madhya Pradesh?\")])\n",
        "\n",
        "print(f\"ContentString: {response.content}\")\n",
        "print(f\"ToolCalls: {response.tool_calls}\")"
      ],
      "metadata": {
        "colab": {
          "base_uri": "https://localhost:8080/"
        },
        "id": "IB96zaLGDRcM",
        "outputId": "4c92e75f-07da-46a5-9f93-a4f508a25fc4"
      },
      "execution_count": 25,
      "outputs": [
        {
          "output_type": "stream",
          "name": "stdout",
          "text": [
            "ContentString: \n",
            "ToolCalls: [{'name': 'tavily_search_results_json', 'args': {'query': 'weather in Jabalpur, Madhya Pradesh'}, 'id': 'FtcNIsoeJ', 'type': 'tool_call'}]\n"
          ]
        }
      ]
    },
    {
      "cell_type": "code",
      "source": [
        "from langgraph.prebuilt import create_react_agent\n",
        "\n",
        "agent_executor = create_react_agent(model, tools)"
      ],
      "metadata": {
        "id": "h-WbH-fMEnPo"
      },
      "execution_count": 26,
      "outputs": []
    },
    {
      "cell_type": "code",
      "source": [
        "response = agent_executor.invoke({\"messages\": [HumanMessage(content=\"hi!\")]})\n",
        "\n",
        "response[\"messages\"]"
      ],
      "metadata": {
        "colab": {
          "base_uri": "https://localhost:8080/"
        },
        "id": "cnCd46BWE_R7",
        "outputId": "befe438e-4125-47f0-8a83-045db8bc6fa8"
      },
      "execution_count": 27,
      "outputs": [
        {
          "output_type": "execute_result",
          "data": {
            "text/plain": [
              "[HumanMessage(content='hi!', additional_kwargs={}, response_metadata={}, id='086f0b62-dd9d-4bbc-ac9f-ba0818bcb5bd'),\n",
              " AIMessage(content='Hello! How can I assist you today?', additional_kwargs={'refusal': None}, response_metadata={'token_usage': {'completion_tokens': 10, 'prompt_tokens': 104, 'total_tokens': 114, 'completion_tokens_details': None, 'prompt_tokens_details': None}, 'model_name': 'mistralai/mistral-small-3.1-24b-instruct:free', 'system_fingerprint': None, 'id': 'gen-1748707312-51tvvHPKxMk8twVHGmyi', 'service_tier': None, 'finish_reason': 'stop', 'logprobs': None}, id='run--a1599df6-9f04-4f30-8aad-1c3caaeac413-0', usage_metadata={'input_tokens': 104, 'output_tokens': 10, 'total_tokens': 114, 'input_token_details': {}, 'output_token_details': {}})]"
            ]
          },
          "metadata": {},
          "execution_count": 27
        }
      ]
    },
    {
      "cell_type": "code",
      "source": [
        "response = agent_executor.invoke(\n",
        "    {\"messages\": [HumanMessage(content=\"whats the weather in sf?\")]}\n",
        ")\n",
        "response[\"messages\"]"
      ],
      "metadata": {
        "colab": {
          "base_uri": "https://localhost:8080/"
        },
        "id": "B4LW9OStHANA",
        "outputId": "b5f1d8b5-fe50-4c1a-b205-304605041815"
      },
      "execution_count": 28,
      "outputs": [
        {
          "output_type": "execute_result",
          "data": {
            "text/plain": [
              "[HumanMessage(content='whats the weather in sf?', additional_kwargs={}, response_metadata={}, id='2e01127a-7dc5-448c-848c-d49902342565'),\n",
              " AIMessage(content='', additional_kwargs={'tool_calls': [{'id': '3VqNbL5lY', 'function': {'arguments': '{\"query\": \"weather in sf\"}', 'name': 'tavily_search_results_json'}, 'type': 'function', 'index': 0}], 'refusal': None}, response_metadata={'token_usage': {'completion_tokens': 26, 'prompt_tokens': 109, 'total_tokens': 135, 'completion_tokens_details': None, 'prompt_tokens_details': None}, 'model_name': 'mistralai/mistral-small-3.1-24b-instruct:free', 'system_fingerprint': None, 'id': 'gen-1748707840-1nS71dzuVwATIkNZjkv0', 'service_tier': None, 'finish_reason': 'tool_calls', 'logprobs': None}, id='run--f1e5586c-9999-4dbd-93b5-24c6aa6a8544-0', tool_calls=[{'name': 'tavily_search_results_json', 'args': {'query': 'weather in sf'}, 'id': '3VqNbL5lY', 'type': 'tool_call'}], usage_metadata={'input_tokens': 109, 'output_tokens': 26, 'total_tokens': 135, 'input_token_details': {}, 'output_token_details': {}}),\n",
              " ToolMessage(content='[{\"title\": \"Saturday, May 31, 2025. San Francisco, CA - Weather Forecast\", \"url\": \"https://weathershogun.com/weather/usa/ca/san-francisco/480/may/2025-05-31\", \"content\": \"San Francisco, California Weather: Saturday, May 31, 2025. Cloudy weather, overcast skies with clouds. Day 70°. Night 55°. Precipitation 0 %.\", \"score\": 0.9609261}, {\"title\": \"Weather in San Francisco in May 2025 - Detailed Forecast\", \"url\": \"https://www.easeweather.com/north-america/united-states/california/city-and-county-of-san-francisco/san-francisco/may\", \"content\": \"Mist 14°/10°0 mm 2.6[](https://www.easeweather.com/north-america/united-states/california/city-and-county-of-san-francisco/san-francisco/tomorrow \\\\\"Weather for May 31 2025\\\\\")\\\\n[Next](https://www.easeweather.com/north-america/united-states/california/city-and-county-of-san-francisco/san-francisco/june)\\\\n\\\\nImportant Notice [...] Partly cloudy 15°/10°0 mm 2.6[](https://www.easeweather.com/north-america/united-states/california/city-and-county-of-san-francisco/san-francisco/today \\\\\"Weather for May 30 2025\\\\\")\\\\n[May 31](https://www.easeweather.com/north-america/united-states/california/city-and-county-of-san-francisco/san-francisco/tomorrow \\\\\"The weather in San Francisco on May 31st\\\\\")![Image 72: Mist](https://res.easeweather.com/images/weather-icons/day/mist.svg) [...] 14°](https://www.easeweather.com/north-america/united-states/california/city-and-county-of-san-francisco/san-francisco/tomorrow \\\\\"Weather for May 31 2025\\\\\") |\", \"score\": 0.9296516}]', name='tavily_search_results_json', id='90035fe7-49f3-4db6-9644-bf4ea7d572cb', tool_call_id='3VqNbL5lY', artifact={'query': 'weather in sf', 'follow_up_questions': None, 'answer': None, 'images': [], 'results': [{'url': 'https://weathershogun.com/weather/usa/ca/san-francisco/480/may/2025-05-31', 'title': 'Saturday, May 31, 2025. San Francisco, CA - Weather Forecast', 'content': 'San Francisco, California Weather: Saturday, May 31, 2025. Cloudy weather, overcast skies with clouds. Day 70°. Night 55°. Precipitation 0 %.', 'score': 0.9609261, 'raw_content': None}, {'url': 'https://www.easeweather.com/north-america/united-states/california/city-and-county-of-san-francisco/san-francisco/may', 'title': 'Weather in San Francisco in May 2025 - Detailed Forecast', 'content': 'Mist 14°/10°0 mm 2.6[](https://www.easeweather.com/north-america/united-states/california/city-and-county-of-san-francisco/san-francisco/tomorrow \"Weather for May 31 2025\")\\n[Next](https://www.easeweather.com/north-america/united-states/california/city-and-county-of-san-francisco/san-francisco/june)\\n\\nImportant Notice [...] Partly cloudy 15°/10°0 mm 2.6[](https://www.easeweather.com/north-america/united-states/california/city-and-county-of-san-francisco/san-francisco/today \"Weather for May 30 2025\")\\n[May 31](https://www.easeweather.com/north-america/united-states/california/city-and-county-of-san-francisco/san-francisco/tomorrow \"The weather in San Francisco on May 31st\")![Image 72: Mist](https://res.easeweather.com/images/weather-icons/day/mist.svg) [...] 14°](https://www.easeweather.com/north-america/united-states/california/city-and-county-of-san-francisco/san-francisco/tomorrow \"Weather for May 31 2025\") |', 'score': 0.9296516, 'raw_content': None}], 'response_time': 8.45}),\n",
              " AIMessage(content='The weather in San Francisco for May 31, 2025, is expected to be cloudy with overcast skies. The temperature will range from a high of 70°F (21°C) during the day to a low of 55°F (13°C) at night. There is no expected precipitation [REF]3VqNbL5lY[/REF].', additional_kwargs={'refusal': None}, response_metadata={'token_usage': {'completion_tokens': 87, 'prompt_tokens': 706, 'total_tokens': 793, 'completion_tokens_details': None, 'prompt_tokens_details': None}, 'model_name': 'mistralai/mistral-small-3.1-24b-instruct:free', 'system_fingerprint': None, 'id': 'gen-1748707850-wHPgmmuf79qzhLSXvPCU', 'service_tier': None, 'finish_reason': 'stop', 'logprobs': None}, id='run--8da005ed-7000-4513-95e4-15a1574190d7-0', usage_metadata={'input_tokens': 706, 'output_tokens': 87, 'total_tokens': 793, 'input_token_details': {}, 'output_token_details': {}})]"
            ]
          },
          "metadata": {},
          "execution_count": 28
        }
      ]
    },
    {
      "cell_type": "code",
      "source": [
        "for step in agent_executor.stream(\n",
        "    {\"messages\": [HumanMessage(content=\"whats the weather in Jabalpur?\")]},\n",
        "    stream_mode=\"values\",\n",
        "):\n",
        "    step[\"messages\"][-1].pretty_print()"
      ],
      "metadata": {
        "colab": {
          "base_uri": "https://localhost:8080/"
        },
        "id": "BI86RObXKTXT",
        "outputId": "8911d616-da7f-4c99-99e7-fcebcb2806ff"
      },
      "execution_count": 29,
      "outputs": [
        {
          "output_type": "stream",
          "name": "stdout",
          "text": [
            "================================\u001b[1m Human Message \u001b[0m=================================\n",
            "\n",
            "whats the weather in Jabalpur?\n",
            "==================================\u001b[1m Ai Message \u001b[0m==================================\n",
            "Tool Calls:\n",
            "  tavily_search_results_json (vkLXduhFm)\n",
            " Call ID: vkLXduhFm\n",
            "  Args:\n",
            "    query: weather in Jabalpur\n",
            "=================================\u001b[1m Tool Message \u001b[0m=================================\n",
            "Name: tavily_search_results_json\n",
            "\n",
            "[{\"title\": \"Jabalpur - Local Weather Report and Forecast\", \"url\": \"https://city.imd.gov.in/citywx/city_weather_test_try_warnings.php?id=42675\", \"content\": \"Local Weather Report and Forecast For: Jabalpur Dated :May 31, 2025. Jabalpur. Past 24 Hours Weather Data. Maximum Temp(oC) (Recorded. on 31/05/25), 37.2.\", \"score\": 0.9511106}, {\"title\": \"Jabalpur Madhya, PRADESH | Weather Forecasts Now, Live Radar ...\", \"url\": \"https://www.weatherbug.com/weather-forecast/now/jabalpur-madhya-pradesh-in\", \"content\": \"Now · Hourly · 10 Day. Today's Weather - Jabalpur, IND. May 31, 2025 7:05 PM. WeatherBug. 91°. Feels Like 93°. Hi -- Lo 79°F. Partly Cloudy. Live Radar.\", \"score\": 0.9481979}]\n",
            "==================================\u001b[1m Ai Message \u001b[0m==================================\n",
            "\n",
            "The weather in Jabalpur is currently partly cloudy with a temperature of 91°F (33°C) and it feels like 93°F (34°C). The high for the day is expected to be 79°F (26°C) [REF]vkLXduhFm[/REF].\n"
          ]
        }
      ]
    },
    {
      "cell_type": "code",
      "source": [
        "for step, metadata in agent_executor.stream(\n",
        "    {\"messages\": [HumanMessage(content=\"whats the weather in sf?\")]},\n",
        "    stream_mode=\"messages\",\n",
        "):\n",
        "    if metadata[\"langgraph_node\"] == \"agent\" and (text := step.text()):\n",
        "        print(text, end=\"|\")"
      ],
      "metadata": {
        "colab": {
          "base_uri": "https://localhost:8080/"
        },
        "id": "QO9Q_UMNKvGh",
        "outputId": "1dab05aa-073a-485e-ac1f-5a5c0396a9ba"
      },
      "execution_count": 30,
      "outputs": [
        {
          "output_type": "stream",
          "name": "stdout",
          "text": [
            "The| weather| in| San| Francisco| on| May| |3|1|,| |2|0|2|5|,| is| expected| to| be| cloud|y| with| over|cast| skies|.| The| temperature| will| range| from| |7|0|°|F| during| the| day| to| |5|5|°|F| at| night|,| with| |0|%| chance| of| precipitation| [|REF|]|p|um|D|Hi|OS|3|[|/|REF|].|"
          ]
        }
      ]
    },
    {
      "cell_type": "code",
      "source": [
        "from langgraph.checkpoint.memory import MemorySaver\n",
        "\n",
        "memory = MemorySaver()"
      ],
      "metadata": {
        "id": "Mfl_7FhfZETJ"
      },
      "execution_count": 31,
      "outputs": []
    },
    {
      "cell_type": "code",
      "source": [
        "agent_executor = create_react_agent(model, tools, checkpointer=memory)\n",
        "\n",
        "config = {\"configurable\": {\"thread_id\": \"abc123\"}}"
      ],
      "metadata": {
        "id": "1V-6vV_Hcele"
      },
      "execution_count": 32,
      "outputs": []
    },
    {
      "cell_type": "code",
      "source": [
        "for chunk in agent_executor.stream(\n",
        "    {\"messages\": [HumanMessage(content=\"hi im Pranshu!\")]}, config\n",
        "):\n",
        "    print(chunk)\n",
        "    print(\"----\")"
      ],
      "metadata": {
        "colab": {
          "base_uri": "https://localhost:8080/"
        },
        "id": "OulW2hJZcn0C",
        "outputId": "65e3fdae-d4fa-4f34-a896-3ead0a55fa70"
      },
      "execution_count": 33,
      "outputs": [
        {
          "output_type": "stream",
          "name": "stdout",
          "text": [
            "{'agent': {'messages': [AIMessage(content='Hello Pranshu! Nice to meet you. How can I assist you today?', additional_kwargs={'refusal': None}, response_metadata={'token_usage': {'completion_tokens': 18, 'prompt_tokens': 108, 'total_tokens': 126, 'completion_tokens_details': None, 'prompt_tokens_details': None}, 'model_name': 'mistralai/mistral-small-3.1-24b-instruct:free', 'system_fingerprint': None, 'id': 'gen-1748713516-qDpspdFwfe5ym66dbY4N', 'service_tier': None, 'finish_reason': 'stop', 'logprobs': None}, id='run--2da29ac8-dc0a-489b-bc49-cb01956decf1-0', usage_metadata={'input_tokens': 108, 'output_tokens': 18, 'total_tokens': 126, 'input_token_details': {}, 'output_token_details': {}})]}}\n",
            "----\n"
          ]
        }
      ]
    },
    {
      "cell_type": "code",
      "source": [
        "for chunk in agent_executor.stream(\n",
        "    {\"messages\": [HumanMessage(content=\"whats my name?\")]}, config\n",
        "):\n",
        "    print(chunk)\n",
        "    print(\"----\")"
      ],
      "metadata": {
        "colab": {
          "base_uri": "https://localhost:8080/"
        },
        "id": "LEv3TpBRcsef",
        "outputId": "678ea935-2be8-41cd-a47d-819fd2bb2018"
      },
      "execution_count": 35,
      "outputs": [
        {
          "output_type": "stream",
          "name": "stdout",
          "text": [
            "{'agent': {'messages': [AIMessage(content='Based on our previous conversation, your name is Pranshu. If you have any questions or need assistance with something else, feel free to ask!', additional_kwargs={'refusal': None}, response_metadata={'token_usage': {'completion_tokens': 31, 'prompt_tokens': 168, 'total_tokens': 199, 'completion_tokens_details': None, 'prompt_tokens_details': None}, 'model_name': 'mistralai/mistral-small-3.1-24b-instruct:free', 'system_fingerprint': None, 'id': 'gen-1748713612-8LE9xC9N17GwCu6cnoDG', 'service_tier': None, 'finish_reason': 'stop', 'logprobs': None}, id='run--2e31069e-cdb0-4e11-8809-a24786298c63-0', usage_metadata={'input_tokens': 168, 'output_tokens': 31, 'total_tokens': 199, 'input_token_details': {}, 'output_token_details': {}})]}}\n",
            "----\n"
          ]
        }
      ]
    },
    {
      "cell_type": "code",
      "source": [
        "for chunk in agent_executor.stream(\n",
        "    {\"messages\": [HumanMessage(content=\"I live in Indore\")]}, config\n",
        "):\n",
        "    print(chunk)\n",
        "    print(\"----\")"
      ],
      "metadata": {
        "colab": {
          "base_uri": "https://localhost:8080/"
        },
        "id": "_atITZIYc844",
        "outputId": "8d9bbc33-0190-475c-c5b6-e007d0332ea4"
      },
      "execution_count": 36,
      "outputs": [
        {
          "output_type": "stream",
          "name": "stdout",
          "text": [
            "{'agent': {'messages': [AIMessage(content='Great! Indore is a vibrant city in India. How can I help you today, Pranshu? If you have any questions or need information about Indore or anything else, feel free to ask!', additional_kwargs={'refusal': None}, response_metadata={'token_usage': {'completion_tokens': 43, 'prompt_tokens': 206, 'total_tokens': 249, 'completion_tokens_details': None, 'prompt_tokens_details': None}, 'model_name': 'mistralai/mistral-small-3.1-24b-instruct:free', 'system_fingerprint': None, 'id': 'gen-1748713632-aHCz1btf76iBZL0XCXQt', 'service_tier': None, 'finish_reason': 'stop', 'logprobs': None}, id='run--df5cf93d-ec77-41a9-933e-555090a14775-0', usage_metadata={'input_tokens': 206, 'output_tokens': 43, 'total_tokens': 249, 'input_token_details': {}, 'output_token_details': {}})]}}\n",
            "----\n"
          ]
        }
      ]
    },
    {
      "cell_type": "code",
      "source": [
        "for step, metadata in agent_executor.stream(\n",
        "    {\"messages\": [HumanMessage(content=\"whats the weather where I live?\")]},\n",
        "    stream_mode=\"messages\",\n",
        "    config=config\n",
        "):\n",
        "    if metadata[\"langgraph_node\"] == \"agent\" and (text := step.text()):\n",
        "        print(text, end=\"\")"
      ],
      "metadata": {
        "colab": {
          "base_uri": "https://localhost:8080/"
        },
        "id": "PX4Zuax1dIc2",
        "outputId": "94ea0d39-a823-44e7-c138-e03c6e308c3c"
      },
      "execution_count": 38,
      "outputs": [
        {
          "output_type": "stream",
          "name": "stdout",
          "text": [
            "The weather in Indore today is expected to be hazy with a maximum temperature of 34°C and a minimum of 24°C [REF]0[/REF]. For the upcoming days, here's a brief forecast:\n",
            "\n",
            "- **Saturday, May 31, 2025:** Cloudy with a temperature of 35°C [REF]1[/REF].\n",
            "- **Sunday, June 1, 2025:** Cloudy with a temperature of 36°C [REF]1[/REF].\n",
            "- **Monday, June 2, 2025:** Cloudy with a temperature of 36°C [REF]1[/REF].\n",
            "- **Tuesday, June 3, 2025:** Rainy with a temperature of 34°C [REF]1[/REF].\n",
            "- **Wednesday, June 4, 2025:** Clear skies [REF]1[/REF]."
          ]
        }
      ]
    }
  ]
}